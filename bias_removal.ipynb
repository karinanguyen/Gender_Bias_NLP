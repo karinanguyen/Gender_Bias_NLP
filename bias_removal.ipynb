Operation on Words and Remove Bias

import numpy as np
from w2v_utils import *

Cosine similarity

def cosine_similarity(u, v):
    
    distance = 0.0
    
    # Compute the dot product between u and v
    dot = np.dot(u, v)
    
    # Compute the L2 norm of u 
    norm_u = np.sqrt(np.sum(u**2))
    
    # Compute the L2 norm of v
    norm_v = np.sqrt(np.sum(v**2))
    
    # Compute the cosine similarity defined by formula (1) (≈1 line)
    cosine_similarity = dot / (norm_u * norm_v)
    
    return cosine_similarity


father = word_to_vec_map["father"]
mother = word_to_vec_map["mother"]
ball = word_to_vec_map["ball"]
crocodile = word_to_vec_map["crocodile"]
france = word_to_vec_map["france"]
italy = word_to_vec_map["italy"]
paris = word_to_vec_map["paris"]
rome = word_to_vec_map["rome"]

print("cosine_similarity(father, mother) = ", cosine_similarity(father, mother))
print("cosine_similarity(ball, crocodile) = ",cosine_similarity(ball, crocodile))
print("cosine_similarity(france - paris, rome - italy) = ",cosine_similarity(france - paris, rome - italy))

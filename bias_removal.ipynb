Operation on Words and Remove Bias
In [1]:
import numpy as np
from w2v_utils import *
Cosine similarity
In [4]:
def cosine_similarity(u, v):
    
    distance = 0.0
    
    # Compute the dot product between u and v
    dot = np.dot(u, v)
    
    # Compute the L2 norm of u 
    norm_u = np.sqrt(np.sum(u**2))
    
    # Compute the L2 norm of v
    norm_v = np.sqrt(np.sum(v**2))
    
    # Compute the cosine similarity defined by formula (1) (≈1 line)
    cosine_similarity = dot / (norm_u * norm_v)
    
    return cosine_similarity
